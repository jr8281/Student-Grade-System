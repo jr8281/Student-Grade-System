{
 "cells": [
  {
   "cell_type": "markdown",
   "id": "ca1000d2-71ec-4267-840c-6202003b068e",
   "metadata": {},
   "source": [
    "# Python Project -- Student Gade System"
   ]
  },
  {
   "cell_type": "markdown",
   "id": "85169983-eee2-45c5-bf34-cbd9ba1b6b11",
   "metadata": {},
   "source": [
    "### Installation of library -- Tabulate"
   ]
  },
  {
   "cell_type": "code",
   "execution_count": 18,
   "id": "5886f2c8-2064-4ff2-83e8-6657e55ae5ad",
   "metadata": {},
   "outputs": [
    {
     "name": "stdout",
     "output_type": "stream",
     "text": [
      "Requirement already satisfied: tabulate in c:\\users\\jaswanth reddi\\appdata\\local\\programs\\python\\python313\\lib\\site-packages (0.9.0)\n"
     ]
    },
    {
     "name": "stderr",
     "output_type": "stream",
     "text": [
      "\n",
      "[notice] A new release of pip is available: 25.1.1 -> 25.2\n",
      "[notice] To update, run: python.exe -m pip install --upgrade pip\n"
     ]
    }
   ],
   "source": [
    "!pip install tabulate"
   ]
  },
  {
   "cell_type": "markdown",
   "id": "715cd92b-156c-4e9d-bbf2-6996c9e6ad9b",
   "metadata": {},
   "source": [
    "## Code:"
   ]
  },
  {
   "cell_type": "markdown",
   "id": "1bef7905-cd8a-4333-be72-12f8c1ab3dde",
   "metadata": {},
   "source": [
    "#### Declaring the library Tabulate, to create neat tables in terminal."
   ]
  },
  {
   "cell_type": "code",
   "execution_count": 19,
   "id": "cdbe005e-c5ba-46bd-b0d7-9d8e59cced2c",
   "metadata": {},
   "outputs": [],
   "source": [
    "from tabulate import tabulate"
   ]
  },
  {
   "cell_type": "markdown",
   "id": "5dc8ec89-aeeb-4f17-90a0-f85d349480a8",
   "metadata": {},
   "source": [
    "#### Defining a function to calculate grade based on average"
   ]
  },
  {
   "cell_type": "code",
   "execution_count": 20,
   "id": "55e3397c-45e7-4d6c-93a1-e5100a1dc977",
   "metadata": {},
   "outputs": [],
   "source": [
    "def CalculatingGrades(average):\n",
    "    if average >= 90:\n",
    "        return \"O\"\n",
    "    elif average >= 80:\n",
    "        return \"A\"\n",
    "    elif average >= 70:\n",
    "        return \"B\"\n",
    "    elif average >= 60:\n",
    "        return \"C\"\n",
    "    elif average >= 50:\n",
    "        return \"D\"\n",
    "    else:\n",
    "        return \"F\""
   ]
  },
  {
   "cell_type": "markdown",
   "id": "39f422b3-0341-446d-81fa-2775e662e1a4",
   "metadata": {},
   "source": [
    "#### Taking the input of number of Students and initializing the lists to store the data of Students and Subject names."
   ]
  },
  {
   "cell_type": "code",
   "execution_count": 21,
   "id": "2146edf2-5cda-4045-b3b6-9f9e272a4b7d",
   "metadata": {
    "scrolled": true
   },
   "outputs": [
    {
     "name": "stdin",
     "output_type": "stream",
     "text": [
      "Enter the number of Students:  3\n"
     ]
    }
   ],
   "source": [
    "n = int(input(\"Enter the number of Students: \"))\n",
    "StudentsData = []\n",
    "SubjectNames = []"
   ]
  },
  {
   "cell_type": "markdown",
   "id": "0abcaaca-3c44-4c05-ba70-1e17bffa9f7d",
   "metadata": {},
   "source": [
    "#### Taking the input of number of Subjects and initiating a for loop to get the Subject name."
   ]
  },
  {
   "cell_type": "code",
   "execution_count": 22,
   "id": "041dd74d-a2d9-4ca4-b0f6-d93986b131de",
   "metadata": {},
   "outputs": [
    {
     "name": "stdin",
     "output_type": "stream",
     "text": [
      "Enter the number of Subjects:  5\n",
      "Enter the name of the Subject 1 : Mathematics\n",
      "Enter the name of the Subject 2 : DSA IN C\n",
      "Enter the name of the Subject 3 : Operating Systems\n",
      "Enter the name of the Subject 4 : Data Science\n",
      "Enter the name of the Subject 5 : Problem Solving\n"
     ]
    }
   ],
   "source": [
    "NumberOfSubjects = int(input(\"Enter the number of Subjects: \"))\n",
    "for i in range(NumberOfSubjects):\n",
    "    NameOfeachSubject = input(f\"Enter the name of the Subject {i+1} :\")\n",
    "    SubjectNames.append(NameOfeachSubject)"
   ]
  },
  {
   "cell_type": "markdown",
   "id": "56574dc6-f3ac-4fae-8eb7-6541bafde35f",
   "metadata": {},
   "source": [
    "#### Initiating to for loops to get the details of Students and to get the marks gained in each subject."
   ]
  },
  {
   "cell_type": "code",
   "execution_count": 23,
   "id": "5d34c65c-da93-499e-be33-b968cb0ac255",
   "metadata": {},
   "outputs": [
    {
     "name": "stdout",
     "output_type": "stream",
     "text": [
      "Enter the Details of Student 1 :\n"
     ]
    },
    {
     "name": "stdin",
     "output_type": "stream",
     "text": [
      "Name of the Student : Jaswanth Babu\n",
      "Enter the marks gained in subject Mathematics : 98\n",
      "Enter the marks gained in subject DSA IN C : 87\n",
      "Enter the marks gained in subject Operating Systems : 82\n",
      "Enter the marks gained in subject Data Science : 78\n",
      "Enter the marks gained in subject Problem Solving : 93\n"
     ]
    },
    {
     "name": "stdout",
     "output_type": "stream",
     "text": [
      "Enter the Details of Student 2 :\n"
     ]
    },
    {
     "name": "stdin",
     "output_type": "stream",
     "text": [
      "Name of the Student : Harsha Vardhan\n",
      "Enter the marks gained in subject Mathematics : 87\n",
      "Enter the marks gained in subject DSA IN C : 76\n",
      "Enter the marks gained in subject Operating Systems : 77\n",
      "Enter the marks gained in subject Data Science : 83\n",
      "Enter the marks gained in subject Problem Solving : 67\n"
     ]
    },
    {
     "name": "stdout",
     "output_type": "stream",
     "text": [
      "Enter the Details of Student 3 :\n"
     ]
    },
    {
     "name": "stdin",
     "output_type": "stream",
     "text": [
      "Name of the Student : Mani Varsith\n",
      "Enter the marks gained in subject Mathematics : 98\n",
      "Enter the marks gained in subject DSA IN C : 96\n",
      "Enter the marks gained in subject Operating Systems : 95\n",
      "Enter the marks gained in subject Data Science : 92\n",
      "Enter the marks gained in subject Problem Solving : 96\n"
     ]
    }
   ],
   "source": [
    "for i in range(n):\n",
    "    print(f\"Enter the Details of Student {i+1} :\")\n",
    "    name = input(\"Name of the Student :\")\n",
    "    marks = []\n",
    "    TotalMarks = 0\n",
    "    for subject in SubjectNames:\n",
    "        mark = int(input(f\"Enter the marks gained in subject {subject} :\"))\n",
    "        marks.append(mark)\n",
    "        TotalMarks += mark\n",
    "    average = TotalMarks / NumberOfSubjects\n",
    "    grade = CalculatingGrades(average)\n",
    "    StudentsData.append([name] + marks + [TotalMarks, f\"{average:.2f}\", grade])"
   ]
  },
  {
   "cell_type": "markdown",
   "id": "23a7aadb-db2d-4e3c-854d-07a6ff7c6493",
   "metadata": {},
   "source": [
    "#### Defining headers for the final table"
   ]
  },
  {
   "cell_type": "code",
   "execution_count": 24,
   "id": "32c5990a-2682-4a9e-9aa7-dab4a8890b96",
   "metadata": {},
   "outputs": [],
   "source": [
    "headers = [\"Name\"] + SubjectNames + [\"Total Marks\", \"Average\", \"Grade\"]"
   ]
  },
  {
   "cell_type": "markdown",
   "id": "0dd42e60-0bdd-4ae5-82cc-ab9f17ffb853",
   "metadata": {},
   "source": [
    "#### Printing the final report as a table"
   ]
  },
  {
   "cell_type": "code",
   "execution_count": 25,
   "id": "7b75bbd8-cb62-419c-b50a-0d756b7ce648",
   "metadata": {},
   "outputs": [
    {
     "name": "stdout",
     "output_type": "stream",
     "text": [
      "\n",
      "-- FINAL REPORT --\n",
      "+----------------+---------------+------------+---------------------+----------------+-------------------+---------------+-----------+---------+\n",
      "| Name           |   Mathematics |   DSA IN C |   Operating Systems |   Data Science |   Problem Solving |   Total Marks |   Average | Grade   |\n",
      "+================+===============+============+=====================+================+===================+===============+===========+=========+\n",
      "| Jaswanth Babu  |            98 |         87 |                  82 |             78 |                93 |           438 |      87.6 | A       |\n",
      "+----------------+---------------+------------+---------------------+----------------+-------------------+---------------+-----------+---------+\n",
      "| Harsha Vardhan |            87 |         76 |                  77 |             83 |                67 |           390 |      78   | B       |\n",
      "+----------------+---------------+------------+---------------------+----------------+-------------------+---------------+-----------+---------+\n",
      "| Mani Varsith   |            98 |         96 |                  95 |             92 |                96 |           477 |      95.4 | O       |\n",
      "+----------------+---------------+------------+---------------------+----------------+-------------------+---------------+-----------+---------+\n"
     ]
    }
   ],
   "source": [
    "print(\"\\n-- FINAL REPORT --\")\n",
    "print(tabulate(StudentsData, headers = headers, tablefmt = \"grid\"))"
   ]
  }
 ],
 "metadata": {
  "kernelspec": {
   "display_name": "Python 3 (ipykernel)",
   "language": "python",
   "name": "python3"
  },
  "language_info": {
   "codemirror_mode": {
    "name": "ipython",
    "version": 3
   },
   "file_extension": ".py",
   "mimetype": "text/x-python",
   "name": "python",
   "nbconvert_exporter": "python",
   "pygments_lexer": "ipython3",
   "version": "3.13.4"
  }
 },
 "nbformat": 4,
 "nbformat_minor": 5
}
